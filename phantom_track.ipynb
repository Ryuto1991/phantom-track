{
 "cells": [
  {
   "cell_type": "markdown",
   "id": "f47bde86",
   "metadata": {},
   "source": [
    "# 🎵 Phantom Track Generator（拡張版）\n",
    "\n",
    "このノートブックでは、参照曲のスタイルを活かした新しい楽曲を生成するアプリケーションを実行します。\n",
    "\n",
    "## 主な機能：\n",
    "- 最大20曲までの参照トラックをアップロード可能\n",
    "- 生成時間を15秒〜2分で調整可能\n",
    "- 音楽ジャンルのプリセット選択\n",
    "- 生成パラメータ（温度、ガイダンス強度など）の詳細設定\n",
    "\n",
    "## 使い方：\n",
    "1. 下のセルをすべて順番に実行（▶ボタンをクリック）\n",
    "2. 最後のセルで表示されるURLにアクセス\n",
    "3. UIから音楽ファイルとプロンプトを入力して楽曲を生成\n",
    "4. 必要に応じて「詳細設定」を調整\n",
    "\n",
    "※必要なライブラリのインストールと初回実行には5〜10分程度かかります\n",
    "\n",
    "※Google Colabの無料枠では生成に使えるメモリに制限があります。多数の曲をアップロードしたり、\n",
    "長い時間の曲を生成する場合はメモリ不足エラーが発生する可能性があります。"
   ]
  },
  {
   "cell_type": "code",
   "execution_count": null,
   "id": "bc0b8b83",
   "metadata": {},
   "outputs": [],
   "source": [
    "# 必要なライブラリのインストール\n",
    "!pip install torch torchaudio\n",
    "!pip install gradio>=4.0.0 pydub>=0.25.1\n",
    "!pip install git+https://github.com/facebookresearch/audiocraft.git"
   ]
  },
  {
   "cell_type": "code",
   "execution_count": null,
   "id": "d55d3001",
   "metadata": {},
   "outputs": [],
   "source": [
    "# アプリケーションコードをアップロード\n",
    "# 方法1: ローカルからアップロード\n",
    "from google.colab import files\n",
    "print(\"app.pyファイルをアップロードしてください...\")\n",
    "uploaded = files.upload()\n",
    "\n",
    "# アップロードされたファイルをappディレクトリに保存\n",
    "!mkdir -p phantom-track\n",
    "!mv app.py phantom-track/\n",
    "\n",
    "# 方法2: GitHubからダウンロード (コメントを外して使用)\n",
    "# !mkdir -p phantom-track\n",
    "# !wget -O phantom-track/app.py https://raw.githubusercontent.com/Ryuto1991/phantom-track/main/app.py"
   ]
  },
  {
   "cell_type": "code",
   "execution_count": null,
   "id": "71445468",
   "metadata": {},
   "outputs": [],
   "source": [
    "# アプリケーションの実行\n",
    "import sys\n",
    "sys.path.append('phantom-track')\n",
    "from app import create_ui\n",
    "\n",
    "app = create_ui()\n",
    "app.launch(debug=False, share=True)"
   ]
  }
 ],
 "metadata": {
  "language_info": {
   "name": "python"
  }
 },
 "nbformat": 4,
 "nbformat_minor": 5
}
